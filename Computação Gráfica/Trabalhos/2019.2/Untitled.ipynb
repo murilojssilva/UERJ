{
 "cells": [
  {
   "cell_type": "code",
   "execution_count": null,
   "metadata": {},
   "outputs": [],
   "source": [
    "%matplotlib inline\n",
    "import pylab as p\n",
    "import pandas as pd\n",
    "import numpy as np\n",
    "import matplotlib.pyplot as plt\n",
    "import seaborn as sns\n",
    "from sklearn.preprocessing import StandardScaler\n",
    "# Create instance (i.e. object) of the standard scaler\n",
    "scaler = StandardScaler()\n",
    "# Fit the object to all the data except the Target Class\n",
    "# use the .drop() method to gather all features except Target Class\n",
    "# axis -> argument refers to columns; a 0 would represent rows\n",
    "scaler.fit(df.drop('TARGET CLASS', axis=1))\n",
    "\n",
    "\n",
    "quad = p.plot([0, 0, 0, 0, 0, 0, 0,  0, 0, 0, 255, 255, 255, 255, 255, 255, 255, 255, 255, 255],\n",
    "[0, 0, 0, 0, 0, 0, 0,  0, 0, 0, 255, 255, 255, 255, 255, 255, 255, 255, 255, 255],\n",
    "[0, 0, 0, 0, 0, 0, 0,  0, 0, 0, 255, 255, 255, 255, 255, 255, 255, 255, 255, 255],\n",
    "[0, 0, 0, 0, 0, 0, 0,  0, 0, 0, 255, 255, 255, 255, 255, 255, 255, 255, 255, 255],\n",
    "[0, 0, 0, 0, 0, 0, 0,  0, 0, 0, 255, 255, 255, 255, 255, 255, 255, 255, 255, 255], \n",
    "[0, 0, 0, 0, 0, 0, 0,  0, 0, 0, 255, 255, 255, 255, 255, 255, 255, 255, 255, 255],\n",
    "[0, 0, 0, 0, 0, 0, 0,  0, 0, 0, 255, 255, 255, 255, 255, 255, 255, 255, 255, 255],\n",
    "[0, 0, 0, 0, 0, 0, 0,  0, 0, 0, 255, 255, 255, 255, 255, 255, 255, 255, 255, 255],\n",
    "[0, 0, 0, 0, 0, 0, 0,  0, 0, 0, 255, 255, 255, 255, 255, 255, 255, 255, 255, 255], \n",
    "[0, 0, 0, 0, 0, 0, 0,  0, 0, 0, 255, 255, 255, 255, 255, 255, 255, 255, 255, 255],\n",
    "[255, 255, 255, 255, 255, 255, 255, 255, 255, 255, 0, 0, 0, 0, 0, 0, 0, 0, 0, 0,],\n",
    "[255, 255, 255, 255, 255, 255, 255, 255, 255, 255, 0, 0, 0, 0, 0, 0, 0, 0, 0, 0,],\n",
    "[255, 255, 255, 255, 255, 255, 255, 255, 255, 255, 0, 0, 0, 0, 0, 0, 0, 0, 0, 0,],\n",
    "[255, 255, 255, 255, 255, 255, 255, 255, 255, 255, 0, 0, 0, 0, 0, 0, 0, 0, 0, 0,],\n",
    "[255, 255, 255, 255, 255, 255, 255, 255, 255, 255, 0, 0, 0, 0, 0, 0, 0, 0, 0, 0,],\n",
    "[255, 255, 255, 255, 255, 255, 255, 255, 255, 255, 0, 0, 0, 0, 0, 0, 0, 0, 0, 0,],\n",
    "[255, 255, 255, 255, 255, 255, 255, 255, 255, 255, 0, 0, 0, 0, 0, 0, 0, 0, 0, 0,],\n",
    "[255, 255, 255, 255, 255, 255, 255, 255, 255, 255, 0, 0, 0, 0, 0, 0, 0, 0, 0, 0,],\n",
    "[255, 255, 255, 255, 255, 255, 255, 255, 255, 255, 0, 0, 0, 0, 0, 0, 0, 0, 0, 0,],\n",
    "[255, 255, 255, 255, 255, 255, 255, 255, 255, 255, 0, 0, 0, 0, 0, 0, 0, 0, 0, 0,])\n",
    "p.axis('square')\n",
    "p.savefig(\"quadrado.png\", bbox_inches=\"tight\")\n",
    "p.show()\n",
    "scaled_features = scaler.transform(df.drop('TARGET CLASS',axis=1))\n",
    "df = pd.read_csv('Classified Data', index_col=0)\n",
    "# Use the .head() method to display the first few rows\n",
    "df.head()\n",
    "\n"
   ]
  },
  {
   "cell_type": "code",
   "execution_count": null,
   "metadata": {},
   "outputs": [],
   "source": []
  },
  {
   "cell_type": "code",
   "execution_count": null,
   "metadata": {},
   "outputs": [],
   "source": []
  }
 ],
 "metadata": {
  "kernelspec": {
   "display_name": "Python 3",
   "language": "python",
   "name": "python3"
  },
  "language_info": {
   "codemirror_mode": {
    "name": "ipython",
    "version": 3
   },
   "file_extension": ".py",
   "mimetype": "text/x-python",
   "name": "python",
   "nbconvert_exporter": "python",
   "pygments_lexer": "ipython3",
   "version": "3.7.3"
  }
 },
 "nbformat": 4,
 "nbformat_minor": 2
}
